{
  "nbformat": 4,
  "nbformat_minor": 0,
  "metadata": {
    "colab": {
      "provenance": []
    },
    "kernelspec": {
      "name": "python3",
      "display_name": "Python 3"
    },
    "language_info": {
      "name": "python"
    }
  },
  "cells": [
    {
      "cell_type": "code",
      "execution_count": null,
      "metadata": {
        "id": "jM1GTCQJV_NC"
      },
      "outputs": [],
      "source": [
        "# exercicio 2.\n",
        "# Faça um programa que calcule o mostre a média aritmética de N notas.\n",
        "contador=0\n",
        "soma= 0\n",
        "qtt=int(input(\"digite a quantidade de numeros a calcular \"))\n",
        "\n",
        "while contador < qtt:\n",
        "  numero=float(input(f\"digite a {contador+1}ª nota \"))\n",
        "  soma += numero\n",
        "  contador += 1\n",
        "  media = soma / qtt\n",
        "print(media)"
      ]
    }
  ]
}