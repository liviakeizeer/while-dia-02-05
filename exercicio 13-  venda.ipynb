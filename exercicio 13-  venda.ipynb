{
  "nbformat": 4,
  "nbformat_minor": 0,
  "metadata": {
    "colab": {
      "provenance": []
    },
    "kernelspec": {
      "name": "python3",
      "display_name": "Python 3"
    },
    "language_info": {
      "name": "python"
    }
  },
  "cells": [
    {
      "cell_type": "code",
      "execution_count": 1,
      "metadata": {
        "colab": {
          "base_uri": "https://localhost:8080/"
        },
        "id": "bhDNqDv192ez",
        "outputId": "a8513a82-ce0b-40df-9fc3-9be4e9a50a4f"
      },
      "outputs": [
        {
          "output_type": "stream",
          "name": "stdout",
          "text": [
            "\n",
            "    Produto            Codigo  Preco\n",
            "    --------------------------------\n",
            "    Cachorro Quente  100     R$ 1.20\n",
            "    Bauru Simples    101     R$ 1.30\n",
            "    Bauru com Ovo    102     R$ 1.50\n",
            "    Hamburguer       103     R$ 1.20\n",
            "    Cheeseburguer    104     R$ 1.30\n",
            "    Refrigerante     105     R$ 1.00\n",
            "\n",
            "Digite o codigo do produto que deseja adquirir (ou 0 para encerrar): 100\n",
            "Digite a quantidade desse produto: 5\n",
            "Codigo 100 - Quantidade 5 - Preço unidade R$1.20 - Preço Total R$6.00\n",
            "Digite o codigo do produto que deseja adquirir (ou 0 para encerrar): 105\n",
            "Digite a quantidade desse produto: 5\n",
            "Codigo 105 - Quantidade 5 - Preço unidade R$1.00 - Preço Total R$5.00\n",
            "Digite o codigo do produto que deseja adquirir (ou 0 para encerrar): 0\n",
            "Total do pedido: R$11.00\n"
          ]
        }
      ],
      "source": [
        "#- [ ]  O cardápio de uma lanchonete é o seguinte:\n",
        "\n",
        "#Especificação   Código  Preço\n",
        "#Cachorro Quente 100     R$ 1,20\n",
        "#Bauru Simples   101     R$ 1,30\n",
        "#Bauru com ovo   102     R$ 1,50\n",
        "#Hambúrguer      103     R$ 1,20\n",
        "#Cheeseburguer   104     R$ 1,30\n",
        "#Refrigerante    105     R$ 1,00\n",
        "\n",
        "#Faça um programa que leia o código dos itens pedidos e as quantidades desejadas.\n",
        "\n",
        "#Calcule e mostre o valor a ser pago por item (preço * quantidade) e o total geral do pedido.\n",
        "\n",
        "#Considere que o cliente deve informar quando o pedido deve ser encerrado.\n",
        "\n",
        "quantidade_produto_100 = 0\n",
        "quantidade_produto_101 = 0\n",
        "quantidade_produto_102 = 0\n",
        "quantidade_produto_103 = 0\n",
        "quantidade_produto_104 = 0\n",
        "quantidade_produto_105 = 0\n",
        "total = 0\n",
        "\n",
        "# Mostra a tabela de produtos\n",
        "print(\"\"\"\n",
        "    Produto            Codigo  Preco\n",
        "    --------------------------------\n",
        "    Cachorro Quente  100     R$ 1.20\n",
        "    Bauru Simples    101     R$ 1.30\n",
        "    Bauru com Ovo    102     R$ 1.50\n",
        "    Hamburguer       103     R$ 1.20\n",
        "    Cheeseburguer    104     R$ 1.30\n",
        "    Refrigerante     105     R$ 1.00\n",
        "\"\"\"\n",
        "      )\n",
        "\n",
        "# Loop para registrar os produtos\n",
        "while True:\n",
        "    codigo = int(input(\"Digite o codigo do produto que deseja adquirir (ou 0 para encerrar): \"))\n",
        "\n",
        "    if codigo == 0:\n",
        "        break\n",
        "\n",
        "    if codigo < 100 or codigo > 105:\n",
        "        print(\"Código Invalido!!!\")\n",
        "        continue\n",
        "\n",
        "    quantidade = int(input(\"Digite a quantidade desse produto: \"))\n",
        "\n",
        "    # Calcula o preço do produto e atualiza o total\n",
        "    if codigo == 100:\n",
        "        preco_unitario = 1.20\n",
        "        quantidade_produto_100 += quantidade\n",
        "    elif codigo == 101:\n",
        "        preco_unitario = 1.30\n",
        "        quantidade_produto_101 += quantidade\n",
        "    elif codigo == 102:\n",
        "        preco_unitario = 1.50\n",
        "        quantidade_produto_102 += quantidade\n",
        "    elif codigo == 103:\n",
        "        preco_unitario = 1.20\n",
        "        quantidade_produto_103 += quantidade\n",
        "    elif codigo == 104:\n",
        "        preco_unitario = 1.30\n",
        "        quantidade_produto_104 += quantidade\n",
        "    elif codigo == 105:\n",
        "        preco_unitario = 1.00\n",
        "        quantidade_produto_105 += quantidade\n",
        "\n",
        "    # Calcula e mostra o preço total do produto\n",
        "    preco_total = preco_unitario * quantidade\n",
        "    print(\n",
        "        f\"Codigo {codigo} - Quantidade {quantidade} - Preço unidade R${preco_unitario:.2f} - Preço Total R${preco_total:.2f}\")\n",
        "\n",
        "    # Atualiza o total da compra\n",
        "    total += preco_total\n",
        "\n",
        "# Mostra o total do pedido\n",
        "print(f\"Total do pedido: R${total:.2f}\")"
      ]
    }
  ]
}