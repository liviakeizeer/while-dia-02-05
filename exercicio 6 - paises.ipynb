{
  "nbformat": 4,
  "nbformat_minor": 0,
  "metadata": {
    "colab": {
      "provenance": []
    },
    "kernelspec": {
      "name": "python3",
      "display_name": "Python 3"
    },
    "language_info": {
      "name": "python"
    }
  },
  "cells": [
    {
      "cell_type": "code",
      "execution_count": null,
      "metadata": {
        "id": "2YFiUrgjWvL7"
      },
      "outputs": [],
      "source": [
        "# Supondo que a população de um país A seja da ordem de 80000 habitantes com\n",
        "# uma taxa anual de crescimento de 3% e que a população de B seja 200000\n",
        "# habitantes com uma taxa de crescimento de 1.5%. Faça um programa que calcule e\n",
        "# escreva o número de anos necessários para que a população do país A ultrapasse\n",
        "# ou iguale a população do país B, mantidas as taxas de crescimento.\n",
        "Paisa = 80000\n",
        "Paisb = 200000\n",
        "\n",
        "ano = 0\n",
        "while Paisb >= Paisa:\n",
        "    Paisa += Paisa * 0.03\n",
        "    Paisb += Paisb * 0.015\n",
        "    ano += 1\n",
        "print(f\"A quantidade de anos é: {ano}\")"
      ]
    }
  ]
}