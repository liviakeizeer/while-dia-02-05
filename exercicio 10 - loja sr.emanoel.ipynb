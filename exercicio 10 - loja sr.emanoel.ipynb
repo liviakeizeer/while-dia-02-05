{
  "nbformat": 4,
  "nbformat_minor": 0,
  "metadata": {
    "colab": {
      "provenance": []
    },
    "kernelspec": {
      "name": "python3",
      "display_name": "Python 3"
    },
    "language_info": {
      "name": "python"
    }
  },
  "cells": [
    {
      "cell_type": "code",
      "execution_count": null,
      "metadata": {
        "id": "7FoXII7GgXWS"
      },
      "outputs": [],
      "source": [
        "#- [ ]  O Sr. Manoel Joaquim expandiu seus negócios para além dos negócios de 1,99 e agora possui uma loja de conveniências.\n",
        "#Faça um programa que implemente uma caixa registradora rudimentar.\n",
        "#O programa deverá receber um número desconhecido de valores referentes aos preços das mercadorias. Um valor zero deve ser informado pelo operador para indicar o final da compra.\n",
        "\n",
        "#O programa deve então mostrar o total da compra e perguntar o valor em dinheiro que o cliente forneceu, para então calcular e mostrar o valor do troco. Após esta operação, o programa deverá voltar ao ponto inicial, para registrar a próxima compra.\n",
        "#A saída deve ser conforme o exemplo abaixo:\n",
        "#Lojas Tabajara\n",
        "#Produto 1: R$ 2.20\n",
        "#Produto 2: R$ 5.80\n",
        "#Produto 3: R$ 0\n",
        "#Total: R$ 9.00\n",
        "#Dinheiro: R$ 20.00\n",
        "#Troco: R$ 11.00\n",
        "\n",
        "print(\"Lojas Tabajara\")  # Mensagem inicial\n",
        "\n",
        "total = 0  # Inicializa o total da compra\n",
        "produto = 0  # Inicializa o contador de produtos\n",
        "valor = 0  # Inicializa o valor do produto\n",
        "\n",
        "while True:  # Loop infinito para registrar as compras\n",
        "    produto += 1  # Incrementa o contador de produtos\n",
        "    valor = float(input(f\"Produto {produto}: R$\"))  # Solicita o preço do próximo produto\n",
        "\n",
        "    total += valor  # Adiciona o valor do produto ao total da compra\n",
        "\n",
        "    if valor == 0:  # Verifica se o valor digitado é zero, indicando o final da compra\n",
        "        produto = 0  # Reinicia o contador de produtos para a próxima compra\n",
        "        valor = 0  # Reinicia o valor do produto para a próxima compra\n",
        "\n",
        "        # Exibe o total da compra\n",
        "        print(f\"O Total da compra foi R${total:.2f}\")\n",
        "\n",
        "        # Solicita o valor em dinheiro fornecido pelo cliente\n",
        "        dinheiro = float(input(\"Dinheiro Recebido: R$\"))\n",
        "\n",
        "        # Calcula o troco\n",
        "        troco = dinheiro - total\n",
        "\n",
        "        # Exibe o valor do troco\n",
        "        print(f\"Troco: {troco:.2f}\")\n",
        "\n",
        "        total = 0  # Reinicia o total da compra para a próxima compra\n",
        "        print(\"Lojas Tabajara\")  # Mensagem indicando o início de uma nova compra"
      ]
    }
  ]
}