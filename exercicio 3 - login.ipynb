{
  "nbformat": 4,
  "nbformat_minor": 0,
  "metadata": {
    "colab": {
      "provenance": []
    },
    "kernelspec": {
      "name": "python3",
      "display_name": "Python 3"
    },
    "language_info": {
      "name": "python"
    }
  },
  "cells": [
    {
      "cell_type": "code",
      "execution_count": null,
      "metadata": {
        "id": "hKlbccP2bGqP"
      },
      "outputs": [],
      "source": [
        "# Faça um programa que leia um nome de usuário e a sua senha e não aceite a\n",
        "# senha igual ao nome do usuário, mostrando uma mensagem de erro e voltando a\n",
        "# pedir as informações.\n",
        "usuario=input(\"insert your login: \")\n",
        "senha=input(\"insert you password: \")\n",
        "while usuario == senha:\n",
        "  print(\"error\")\n",
        "  usuario=input(\"insert your login: \")\n",
        "  senha=input(\"insert you password: \")\n",
        "print(\"Welcome!\")"
      ]
    }
  ]
}