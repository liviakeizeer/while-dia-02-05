{
  "nbformat": 4,
  "nbformat_minor": 0,
  "metadata": {
    "colab": {
      "provenance": []
    },
    "kernelspec": {
      "name": "python3",
      "display_name": "Python 3"
    },
    "language_info": {
      "name": "python"
    }
  },
  "cells": [
    {
      "cell_type": "code",
      "execution_count": null,
      "metadata": {
        "id": "cyMsVRfPPkvi"
      },
      "outputs": [],
      "source": [
        "# exercicio 5\n",
        "# Faça um programa que leia e valide as seguintes informações:\n",
        "#  Nome: maior que 3 caracteres;\n",
        "nome=str(input(\"digite seu nome: \"))\n",
        "while len(nome) < 3:\n",
        "  print(\"quantidade de caracteres do nome invalida \")\n",
        "  nome=str(input(\"digite seu nome: \"))\n",
        "print(\"nome valido\")\n",
        "#  Idade: entre 0 e 150;\n",
        "idade=int(input(\"digite sua idade: \"))\n",
        "while idade < 0 and idade > 150:\n",
        "  print(\"idade invalida\")\n",
        "  idade=int(input(\"digite sua idade: \"))\n",
        "print(\"idade valida\")\n",
        "#  Salário: maior que zero;\n",
        "salario=float(input(\"digite sua idade: \"))\n",
        "while salario < 0:\n",
        "  print(\"salario invalido\")\n",
        "  salario=float(input(\"digite sua idade: \"))\n",
        "print(\"salario valido\")\n",
        "#  Sexo: 'f' ou 'm';\n",
        "sexo=input(\"digite 'f' para feminino e 'm' para masculino \")\n",
        "while sexo !=\"F\" and sexo != \"f\" and sexo != \"M\" and sexo != \"m\":\n",
        "  print(\"sexo invalido\")\n",
        "  sexo=input(\"digite 'f' para feminino e 'm' para masculino\")\n",
        "print(\"sexo valido\")\n",
        "#  Estado Civil: 's', 'c', 'v', 'd';\n",
        "civil=input(\"digite 's' para solteiro, digite 'c' para casado, digite 'v'para viuvo ou digite 'd' para divorciado \")\n",
        "if civil != \"s\" and civil != \"S\" and civil != \"C\" and civil != \"c\" and civil != \"V\" and civil != \"v\" and civil != \"D\" and civil != \"d\":\n",
        "  print(\"estado civil invalido\")\n",
        "  civil=input(\"digite 's' para solteiro, digite 'c' para casado, digite 'v'para viuvo ou digite 'd' para divorciado \")\n",
        "print(\"estado civil valido\")"
      ]
    }
  ]
}