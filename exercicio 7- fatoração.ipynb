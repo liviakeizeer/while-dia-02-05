{
  "nbformat": 4,
  "nbformat_minor": 0,
  "metadata": {
    "colab": {
      "provenance": []
    },
    "kernelspec": {
      "name": "python3",
      "display_name": "Python 3"
    },
    "language_info": {
      "name": "python"
    }
  },
  "cells": [
    {
      "cell_type": "code",
      "execution_count": null,
      "metadata": {
        "id": "p0hboYXLX6xu"
      },
      "outputs": [],
      "source": [
        "# Faça um programa que calcule o fatorial de um número inteiro fornecido pelo\n",
        "# usuário. Ex.: 5!=5.4.3.2.1=120\n",
        "numero=int(input(\"digite o valor que deseja fatorar: \"))\n",
        "fator = 1\n",
        "cont = 1\n",
        "\n",
        "while cont <= numero:\n",
        "  fator = fator * cont\n",
        "  cont += 1\n",
        "print(fator)\n"
      ]
    }
  ]
}