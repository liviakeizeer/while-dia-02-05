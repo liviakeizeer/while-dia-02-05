{
  "nbformat": 4,
  "nbformat_minor": 0,
  "metadata": {
    "colab": {
      "provenance": []
    },
    "kernelspec": {
      "name": "python3",
      "display_name": "Python 3"
    },
    "language_info": {
      "name": "python"
    }
  },
  "cells": [
    {
      "cell_type": "code",
      "execution_count": 20,
      "metadata": {
        "colab": {
          "base_uri": "https://localhost:8080/"
        },
        "id": "skxaDL47V9_9",
        "outputId": "9a171e7d-cd3d-4b34-d6c7-e1848ccc81b3"
      },
      "outputs": [
        {
          "name": "stdout",
          "output_type": "stream",
          "text": [
            "digite uma nota de 0 a 10: 13\n",
            "valor invalido\n",
            "digite uma nota de 0 a 103\n"
          ]
        }
      ],
      "source": [
        "# exercicio 1\n",
        "# Faça um programa que peça uma nota, entre zero e dez. Mostre uma mensagem\n",
        "# caso o valor seja inválido e continue pedindo até que o usuário informe um valor válido.\n",
        "valor=int(input(\"digite uma nota de 0 a 10: \"))\n",
        "while valor < 0 or valor > 10:\n",
        "  print(\"valor invalido\")\n",
        "  valor=int(input(\"digite uma nota de 0 a 10: \"))\n",
        ""
      ]
    }
  ]
}