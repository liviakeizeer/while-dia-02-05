{
  "nbformat": 4,
  "nbformat_minor": 0,
  "metadata": {
    "colab": {
      "provenance": []
    },
    "kernelspec": {
      "name": "python3",
      "display_name": "Python 3"
    },
    "language_info": {
      "name": "python"
    }
  },
  "cells": [
    {
      "cell_type": "code",
      "execution_count": null,
      "metadata": {
        "id": "54CmTpBXdCSk"
      },
      "outputs": [],
      "source": [
        "#Faça um programa que solicite ao usuário números indefinidamente até que ele\n",
        "# digite 0. Em seguida, o programa deve imprimir a média dos números digitados.\n",
        "num=0\n",
        "cont = 0\n",
        "numero= (\"Digite os numeros que deseja obter o calculo da media: \")\n",
        "\n",
        "while numero != 0:\n",
        "  numero=int(input(\"Digite os numeros que deseja obter o calculo da media: \"))\n",
        "  num += numero\n",
        "  cont += 1\n",
        "\n",
        "print(num)"
      ]
    }
  ]
}