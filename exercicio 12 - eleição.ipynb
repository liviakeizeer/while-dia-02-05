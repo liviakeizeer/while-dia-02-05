{
  "nbformat": 4,
  "nbformat_minor": 0,
  "metadata": {
    "colab": {
      "provenance": []
    },
    "kernelspec": {
      "name": "python3",
      "display_name": "Python 3"
    },
    "language_info": {
      "name": "python"
    }
  },
  "cells": [
    {
      "cell_type": "code",
      "execution_count": null,
      "metadata": {
        "id": "AyrxJ4QLesl5"
      },
      "outputs": [],
      "source": [
        "#- Em uma eleição presidencial existem quatro candidatos. Os votos são informados por meio de código.\n",
        "#Os códigos utilizados são:\n",
        "#1, 2, 3, 4  - Votos para os respectivos candidatos (você deve montar a tabela ex: 1 - Jose/ 2- João/etc)\n",
        "#5 - Voto Nulo\n",
        "#6 - Voto em Branco\n",
        "\n",
        "#Faça um programa que calcule e mostre:\n",
        "#O total de votos para cada candidato;\n",
        "#O total de votos nulos;\n",
        "#O total de votos em branco;\n",
        "#A percentagem de votos nulos sobre o total de votos;\n",
        "#A percentagem de votos em branco sobre o total de votos.\n",
        "#Para finalizar o conjunto de votos tem-se o valor zero.\n",
        "\n",
        "print(\"Candidatos: \\n1 - Marina Silva\\n2 - Vladimir Putin\\n3 - Dilma Rousseff\\n4 - Luis Inacio\\nDigite 0 para sair, 5 para votar nulo ou 6 para votar em branco\")\n",
        "print(\"\")\n",
        "\n",
        "# Inicializa as variáveis para contagem dos votos\n",
        "votos = 0\n",
        "candidato_1 = 0\n",
        "candidato_2 = 0\n",
        "candidato_3 = 0\n",
        "candidato_4 = 0\n",
        "nulos = 0\n",
        "brancos = 0\n",
        "\n",
        "# Loop para registrar os votos\n",
        "while True:\n",
        "    # Solicita o voto ao usuário\n",
        "    voto = int(input(f\"Digite o voto numero {votos + 1}: \"))\n",
        "\n",
        "    # Verifica se o voto é para sair do loop\n",
        "    if voto == 0:\n",
        "        break\n",
        "\n",
        "    # Incrementa o número total de votos\n",
        "    votos += 1\n",
        "\n",
        "    # Contabiliza o voto para o candidato correspondente\n",
        "    if voto == 1:\n",
        "        candidato_1 += 1\n",
        "    elif voto == 2:\n",
        "        candidato_2 += 1\n",
        "    elif voto == 3:\n",
        "        candidato_3 += 1\n",
        "    elif voto == 4:\n",
        "        candidato_4 += 1\n",
        "    elif voto == 5:\n",
        "        nulos += 1\n",
        "    elif voto == 6:\n",
        "        brancos += 1\n",
        "    else:\n",
        "        print(\"Voto Invalido\")\n",
        "        votos -= 1\n",
        "\n",
        "# Mostra o resultado da eleição\n",
        "print(f\"\"\"\n",
        "    Resultado da Eleição:\n",
        "    Marina Silva teve {candidato_1} votos\n",
        "    Vladimir Putin {candidato_2} votos\n",
        "    Dilma Rousseff teve {candidato_3} votos\n",
        "    Luis Inacio teve {candidato_4} votos\n",
        "    {nulos} votos foram anulados, um total de {100 * nulos / votos:.2f}%\n",
        "    {brancos} votos foram em branco, um total de {100 * brancos / votos:.2f}%\n",
        "\"\"\")"
      ]
    }
  ]
}