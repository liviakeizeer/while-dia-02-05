{
  "nbformat": 4,
  "nbformat_minor": 0,
  "metadata": {
    "colab": {
      "provenance": []
    },
    "kernelspec": {
      "name": "python3",
      "display_name": "Python 3"
    },
    "language_info": {
      "name": "python"
    }
  },
  "cells": [
    {
      "cell_type": "code",
      "execution_count": null,
      "metadata": {
        "id": "CN5T9QZKfFgj"
      },
      "outputs": [],
      "source": [
        "ultimo = 1\n",
        "penultimo = 1\n",
        "contador = 1\n",
        "\n",
        "print(ultimo)\n",
        "print(penultimo)\n",
        "\n",
        "while cont <= 9:\n",
        "    termo = ultimo + penultimo\n",
        "    penultimo = ultimo\n",
        "    ultimo = termo\n",
        "\n",
        "    contador += 1\n",
        "    print(termo)"
      ]
    }
  ]
}