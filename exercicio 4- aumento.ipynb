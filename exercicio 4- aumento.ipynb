{
  "nbformat": 4,
  "nbformat_minor": 0,
  "metadata": {
    "colab": {
      "provenance": []
    },
    "kernelspec": {
      "name": "python3",
      "display_name": "Python 3"
    },
    "language_info": {
      "name": "python"
    }
  },
  "cells": [
    {
      "cell_type": "code",
      "execution_count": null,
      "metadata": {
        "id": "8HhgGTpncVJo"
      },
      "outputs": [],
      "source": [
        "# Um funcionário de uma empresa recebe aumento salarial anualmente. Sabe-se que: Esse funcionário foi contratado em 1995,\n",
        "# com salário inicial de R$ 1.000,00; Em 1996 recebeu aumento de 1,5% sobre\n",
        "# seu salário inicial; A partir de 1997 (inclusive), os aumentos salariais sempre correspondem ao dobro do percentual do ano anterior.\n",
        "salario = float(input(\"Digite um salario: \"))\n",
        "\n",
        "ano = 1995\n",
        "\n",
        "ano_atual = int(input(\"Digite o ano em que estamos: \"))\n",
        "\n",
        "aumento = 1.5 / 100\n",
        "\n",
        "while ano < ano_atual:\n",
        "    ano += 1\n",
        "    salario = salario * (1 + aumento)\n",
        "    aumento *= 2\n",
        "    print(f\"O salario em {ano} é de R$ {salario:.2f}\")"
      ]
    }
  ]
}